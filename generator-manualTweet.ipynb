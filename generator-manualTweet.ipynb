{
 "metadata": {
  "language_info": {
   "codemirror_mode": {
    "name": "ipython",
    "version": 3
   },
   "file_extension": ".py",
   "mimetype": "text/x-python",
   "name": "python",
   "nbconvert_exporter": "python",
   "pygments_lexer": "ipython3",
   "version": "3.7.7-final"
  },
  "orig_nbformat": 2,
  "kernelspec": {
   "name": "python3",
   "display_name": "Python 3"
  }
 },
 "nbformat": 4,
 "nbformat_minor": 2,
 "cells": [
  {
   "cell_type": "code",
   "execution_count": 1,
   "metadata": {},
   "outputs": [],
   "source": [
    "import numpy as np\n",
    "import tensorflow as tf\n",
    "from tensorflow.keras.models import load_model\n",
    "from src.modelling.model import gen_vocab, generate_text_sequences\n",
    "from src.datapipeline.datapipeline import Datapipeline\n",
    "\n",
    "%load_ext autoreload\n",
    "%autoreload 2"
   ]
  },
  {
   "cell_type": "code",
   "execution_count": 2,
   "metadata": {},
   "outputs": [],
   "source": [
    "# dpl = Datapipeline(r'./data/raw/realdonaldtrump.csv')\n",
    "# dpl.transform()\n",
    "# train, val = dpl.split_data()"
   ]
  },
  {
   "cell_type": "code",
   "execution_count": 3,
   "metadata": {},
   "outputs": [],
   "source": [
    "# model = load_model('model/trump_bot_bidirstack.h5')"
   ]
  },
  {
   "cell_type": "code",
   "execution_count": 4,
   "metadata": {},
   "outputs": [],
   "source": [
    "# vocab, vectorizer = gen_vocab(train.values)"
   ]
  },
  {
   "cell_type": "code",
   "execution_count": 5,
   "metadata": {},
   "outputs": [],
   "source": [
    "# x_val, y_val = generate_text_sequences(val.values, 5, vocab)"
   ]
  },
  {
   "cell_type": "code",
   "execution_count": 6,
   "metadata": {
    "tags": []
   },
   "outputs": [
    {
     "output_type": "stream",
     "name": "stdout",
     "text": "WARNING:tensorflow:From <ipython-input-6-75acb17b4448>:1: Layer.apply (from tensorflow.python.keras.engine.base_layer) is deprecated and will be removed in a future version.\nInstructions for updating:\nPlease use `layer.__call__` method instead.\n"
    }
   ],
   "source": [
    "# x_input_val = vectorizer.apply(list(map(lambda x: ' '.join(x), x_val)))\n",
    "# x_input_val = tf.gather(x_input_val, [0,1,2,3,4], axis=1)"
   ]
  },
  {
   "cell_type": "code",
   "execution_count": 7,
   "metadata": {},
   "outputs": [],
   "source": [
    "# y_pred_val = model.predict(x_input_val)"
   ]
  },
  {
   "cell_type": "code",
   "execution_count": 8,
   "metadata": {},
   "outputs": [],
   "source": [
    "# index_label = np.argmax(y_pred_val, axis = 1)\n",
    "\n",
    "# output_word = []\n",
    "\n",
    "# for idx in index_label:\n",
    "#     output_word.append(vocab[idx])"
   ]
  },
  {
   "cell_type": "code",
   "execution_count": 9,
   "metadata": {},
   "outputs": [
    {
     "output_type": "execute_result",
     "data": {
      "text/plain": "(74079, 14400)"
     },
     "metadata": {},
     "execution_count": 9
    }
   ],
   "source": [
    "# y_pred_val.shape"
   ]
  },
  {
   "cell_type": "code",
   "execution_count": 10,
   "metadata": {},
   "outputs": [
    {
     "output_type": "execute_result",
     "data": {
      "text/plain": "['defunding police would be good']"
     },
     "metadata": {},
     "execution_count": 10
    }
   ],
   "source": [
    "# [' '.join(x_val[0])]"
   ]
  },
  {
   "cell_type": "code",
   "execution_count": 2,
   "metadata": {},
   "outputs": [],
   "source": [
    "def initialize(data_path, model_path):\n",
    "    dpl = Datapipeline(data_path)\n",
    "    dpl.transform()\n",
    "    train, val = dpl.split_data()\n",
    "    model = load_model(model_path)\n",
    "    vocab, vectorizer = gen_vocab(train.values)\n",
    "    \n",
    "    return train, val, model, vocab, vectorizer"
   ]
  },
  {
   "cell_type": "code",
   "execution_count": 3,
   "metadata": {},
   "outputs": [],
   "source": [
    "def tokenize(val, vocab, vectorizer):\n",
    "    \n",
    "    x_val, y_val = generate_text_sequences(val.values, 5, vocab)\n",
    "    x_input_val = vectorizer.apply(list(map(lambda x: ' '.join(x), x_val)))\n",
    "    x_input_val = tf.gather(x_input_val, [0,1,2,3,4], axis=1)\n",
    "    \n",
    "    return x_input_val"
   ]
  },
  {
   "cell_type": "code",
   "execution_count": 4,
   "metadata": {},
   "outputs": [],
   "source": [
    "def generate_next_word(phrase, vectorizer, model, vocab):\n",
    "    # if phrase is list of tokens\n",
    "    if type(phrase) == list:\n",
    "        x_input_val = vectorizer.apply([' '.join(phrase)])\n",
    "    # if phrase is string\n",
    "    elif type(phrase) == str:\n",
    "        x_input_val = vectorizer.apply([phrase])\n",
    "    x_input_val = tf.gather(x_input_val, [0,1,2,3,4], axis=1)\n",
    "    prob_ = model.predict(x_input_val)\n",
    "    idx = np.argmax(prob_)\n",
    "    return vocab[idx]\n",
    "\n",
    "# generate_single_tweet('the trade deficit rose to')"
   ]
  },
  {
   "cell_type": "code",
   "execution_count": 5,
   "metadata": {},
   "outputs": [],
   "source": [
    "def generate_tweet(phrase, max_char=140):\n",
    "    word = phrase[-1]\n",
    "    char_count = 0\n",
    "    tweet_range = np.random.randint(15,25)\n",
    "    while word != '' and char_count <= max_char and len(phrase) < tweet_range:\n",
    "        input_phrase = phrase[-5:]\n",
    "        word = generate_next_word(input_phrase, vectorizer, model, vocab)\n",
    "        if word == '':\n",
    "            break\n",
    "        elif word =='a' and input_phrase[-1] == 's' and input_phrase[-2] == 'u':\n",
    "            word = 'usa'\n",
    "            phrase.pop()\n",
    "            phrase.pop()\n",
    "\n",
    "        phrase.append(word)\n",
    "        char_count = len(' '.join(phrase))\n",
    "        \n",
    "    return ' '.join(phrase)"
   ]
  },
  {
   "cell_type": "code",
   "execution_count": 11,
   "metadata": {
    "tags": []
   },
   "outputs": [
    {
     "output_type": "execute_result",
     "data": {
      "text/plain": "'the white house our country is doing a great job for the people of the united states and the'"
     },
     "metadata": {},
     "execution_count": 11
    }
   ],
   "source": [
    "train, val, model, vocab, vectorizer = initialize('./data/raw/realdonaldtrump.csv', './model/trump_bot.h5')\n",
    "# x_input_val = tokenize(val, vocab, vectorizer)\n",
    "phrase = \"the white house our country\".split()[:5] # ['the', 'white', 'house', 'our', 'country']\n",
    "generate_tweet(phrase)"
   ]
  },
  {
   "cell_type": "code",
   "execution_count": 13,
   "metadata": {},
   "outputs": [
    {
     "output_type": "execute_result",
     "data": {
      "text/plain": "<tensorflow.python.keras.layers.preprocessing.text_vectorization.TextVectorization at 0x7fb67df1e290>"
     },
     "metadata": {},
     "execution_count": 13
    }
   ],
   "source": [
    "vectorizer"
   ]
  },
  {
   "cell_type": "code",
   "execution_count": null,
   "metadata": {},
   "outputs": [],
   "source": []
  }
 ]
}