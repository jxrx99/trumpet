{
 "cells": [
  {
   "cell_type": "code",
   "execution_count": 2,
   "metadata": {},
   "outputs": [],
   "source": [
    "import pandas as pd\n",
    "import numpy as np\n",
    "import tensorflow as tf\n",
    "from tensorflow.keras.models import load_model\n",
    "from src.modelling.model import gen_vocab, generate_text_sequences\n",
    "from src.datapipeline.datapipeline import Datapipeline\n",
    "from sklearn.metrics import accuracy_score\n",
    "\n",
    "%load_ext autoreload\n",
    "%autoreload 2"
   ]
  },
  {
   "cell_type": "code",
   "execution_count": 3,
   "metadata": {},
   "outputs": [],
   "source": [
    "def initialize(data_path, model_path):\n",
    "    dpl = Datapipeline(data_path)\n",
    "    dpl.transform()\n",
    "    train, val = dpl.split_data()\n",
    "    model = load_model(model_path)\n",
    "    vocab, vectorizer = gen_vocab(train.values)\n",
    "    \n",
    "    return train, val, model, vocab, vectorizer\n",
    "\n",
    "def generate_next_word(phrase, vectorizer, model, vocab):\n",
    "    # if phrase is list of tokens\n",
    "    if type(phrase) == list:\n",
    "        x_input_val = vectorizer.apply([' '.join(phrase)])\n",
    "    # if phrase is string\n",
    "    elif type(phrase) == str:\n",
    "        x_input_val = vectorizer.apply([phrase])\n",
    "    x_input_val = tf.gather(x_input_val, [0,1,2,3,4], axis=1)\n",
    "    prob_ = model.predict(x_input_val)\n",
    "    idx = np.argmax(prob_)\n",
    "    return vocab[idx]\n",
    "\n",
    "# generate_single_tweet('the trade deficit rose to')\n",
    "\n",
    "def generate_tweet(phrase, max_char=140):\n",
    "    word = phrase[-1]\n",
    "    char_count = 0\n",
    "    tweet_range = np.random.randint(15,25)\n",
    "    while word != '' and char_count <= max_char and len(phrase) < tweet_range:\n",
    "        input_phrase = phrase[-5:]\n",
    "        word = generate_next_word(input_phrase, vectorizer, model, vocab)\n",
    "        if word == '':\n",
    "            break\n",
    "        elif word =='a' and input_phrase[-1] == 's' and input_phrase[-2] == 'u':\n",
    "            word = 'usa'\n",
    "            phrase.pop()\n",
    "            phrase.pop()\n",
    "\n",
    "        phrase.append(word)\n",
    "        char_count = len(' '.join(phrase))\n",
    "        \n",
    "    return ' '.join(phrase)"
   ]
  },
  {
   "cell_type": "code",
   "execution_count": 4,
   "metadata": {},
   "outputs": [
    {
     "name": "stdout",
     "output_type": "stream",
     "text": [
      "WARNING:tensorflow:From <ipython-input-4-a8b024c40715>:6: Layer.apply (from tensorflow.python.keras.engine.base_layer) is deprecated and will be removed in a future version.\n",
      "Instructions for updating:\n",
      "Please use `layer.__call__` method instead.\n"
     ]
    },
    {
     "data": {
      "text/plain": [
       "0.1523076923076923"
      ]
     },
     "execution_count": 4,
     "metadata": {},
     "output_type": "execute_result"
    }
   ],
   "source": [
    "# Bidir\n",
    "train, val, model, vocab, vectorizer = initialize('./data/realdonaldtrump.csv', 'trump_bot_bidirstack.h5')\n",
    "\n",
    "X_val_line, y_val_line = generate_text_sequences(val.values[:100], 5, vocab)\n",
    "\n",
    "val_emb = tf.gather(vectorizer.apply(list(map(lambda line: [' '.join(line)], X_val_line))), [0,1,2,3,4], axis=1)\n",
    "\n",
    "result = np.argmax(model.predict(val_emb), axis=1)\n",
    "\n",
    "true = tf.gather(vectorizer.apply(y_val_line),[0], axis=1)\n",
    "\n",
    "true = np.array(true).reshape(-1)\n",
    "\n",
    "accuracy_score(true, result)"
   ]
  },
  {
   "cell_type": "code",
   "execution_count": 5,
   "metadata": {},
   "outputs": [
    {
     "data": {
      "text/plain": [
       "0.14717948717948717"
      ]
     },
     "execution_count": 5,
     "metadata": {},
     "output_type": "execute_result"
    }
   ],
   "source": [
    "# Bidir\n",
    "train, val, model, vocab, vectorizer = initialize('./data/realdonaldtrump.csv', 'trump_bot_singlebidir.h5')\n",
    "\n",
    "X_val_line, y_val_line = generate_text_sequences(val.values[:100], 5, vocab)\n",
    "\n",
    "val_emb = tf.gather(vectorizer.apply(list(map(lambda line: [' '.join(line)], X_val_line))), [0,1,2,3,4], axis=1)\n",
    "\n",
    "result = np.argmax(model.predict(val_emb), axis=1)\n",
    "\n",
    "true = tf.gather(vectorizer.apply(y_val_line),[0], axis=1)\n",
    "\n",
    "true = np.array(true).reshape(-1)\n",
    "\n",
    "accuracy_score(true, result)"
   ]
  },
  {
   "cell_type": "code",
   "execution_count": 7,
   "metadata": {},
   "outputs": [
    {
     "data": {
      "text/plain": [
       "0.14256410256410257"
      ]
     },
     "execution_count": 7,
     "metadata": {},
     "output_type": "execute_result"
    }
   ],
   "source": [
    "# Single LSTM\n",
    "train, val, model, vocab, vectorizer = initialize('./data/realdonaldtrump.csv', 'trump_bot.h5')\n",
    "\n",
    "X_val_line, y_val_line = generate_text_sequences(val.values[:100], 5, vocab)\n",
    "\n",
    "val_emb = tf.gather(vectorizer.apply(list(map(lambda line: [' '.join(line)], X_val_line))), [0,1,2,3,4], axis=1)\n",
    "\n",
    "result = np.argmax(model.predict(val_emb), axis=1)\n",
    "\n",
    "true = tf.gather(vectorizer.apply(y_val_line),[0], axis=1)\n",
    "\n",
    "true = np.array(true).reshape(-1)\n",
    "\n",
    "accuracy_score(true, result)"
   ]
  }
 ],
 "metadata": {
  "kernelspec": {
   "display_name": "Python 3",
   "language": "python",
   "name": "python3"
  },
  "language_info": {
   "codemirror_mode": {
    "name": "ipython",
    "version": 3
   },
   "file_extension": ".py",
   "mimetype": "text/x-python",
   "name": "python",
   "nbconvert_exporter": "python",
   "pygments_lexer": "ipython3",
   "version": "3.6.7"
  }
 },
 "nbformat": 4,
 "nbformat_minor": 4
}
